{
 "cells": [
  {
   "cell_type": "markdown",
   "id": "ba31a264",
   "metadata": {},
   "source": [
    "<h1><center>Tutorial - Gassmann Fluid Substitution</center></h1>"
   ]
  },
  {
   "cell_type": "markdown",
   "id": "b0154529",
   "metadata": {},
   "source": [
    "Fluid substitution is an important part of the seismic rock physics analysis (e.g., AVO, 4D analysis), which provides\n",
    "a tool for fluid identification and quantification in reservoir. This is commonly performed using Gassmann’s equation (Gassmann, 1951)."
   ]
  },
  {
   "cell_type": "code",
   "execution_count": 1,
   "id": "6a6c3163",
   "metadata": {},
   "outputs": [],
   "source": [
    "#Import Libraries\n",
    "from pyavo.avotools import gassmann"
   ]
  },
  {
   "cell_type": "markdown",
   "id": "2a24a031",
   "metadata": {},
   "source": [
    "__1. create model parameters__"
   ]
  },
  {
   "cell_type": "code",
   "execution_count": 2,
   "id": "1b5621ac",
   "metadata": {},
   "outputs": [],
   "source": [
    "# vp = P-wave velocity from log (ft/s)\n",
    "# vs = S-wave velocity from log (ft/s)\n",
    "# rho = Bulk density form log (g/cc)\n",
    "# rho_o = Oil gravity (deg API)\n",
    "# rho_g = Gas gravity (API)\n",
    "# vsh = Shale volume from log\n",
    "# phi = Porosity\n",
    "# swi = Initial water saturation from log\n",
    "# swt =  Target water saturation\n",
    "# S = Salinity (ppm)\n",
    "# T = Temperature (deg)\n",
    "# P = Pressure (psi)\n",
    "# init_fluid = Fluid type of initial hydrocarbon (gas or oil)\n",
    "# final_fluid = Fluid type of desired output where (gas or oil)\n",
    "# GOR = Gas-Oil ratio"
   ]
  },
  {
   "cell_type": "markdown",
   "id": "b8526026",
   "metadata": {},
   "source": [
    "__2. Initiate the class to model Gassmann fluid substitution for brine sands, oil sands, and gas sands.__\n",
    "\n",
    "Desired fluid is defined by the target water saturation (swt) and the type of hydrocarbon. Here, we assume swt to be 80%"
   ]
  },
  {
   "cell_type": "code",
   "execution_count": 3,
   "id": "b685e1b4",
   "metadata": {},
   "outputs": [],
   "source": [
    "model = gassmann.GassmannSub(vp=11000, vs=6500, rho=2.2, rho_g=0.9, rho_o=42, vsh=0.2, \n",
    "                    phi=0.2, swi=0.4, swt=0.8, S=3800, T=150, P=3200, init_fluid='oil', \n",
    "                    final_fluid='gas', GOR=160.0)"
   ]
  },
  {
   "cell_type": "markdown",
   "id": "33e5eeaf",
   "metadata": {},
   "source": [
    "__3. Estimate the bulk modulus and density of matrix__"
   ]
  },
  {
   "cell_type": "code",
   "execution_count": 4,
   "id": "7305b9df",
   "metadata": {},
   "outputs": [
    {
     "name": "stdout",
     "output_type": "stream",
     "text": [
      "Bulk Modulus of matrix: 33.76Gpa\n",
      "Density of matrix: 2.64g/cc\n"
     ]
    }
   ],
   "source": [
    "k_mat, rho_mat = gassmann.k_rho_matrix(v_cly=0.14, k_cly=20.9, k_qtz=36.6, rho_cly=2.58, rho_qtz=2.65)\n",
    "print(f'Bulk Modulus of matrix: {k_mat}Gpa')\n",
    "print(f'Density of matrix: {rho_mat}g/cc')"
   ]
  },
  {
   "cell_type": "markdown",
   "id": "395a43de",
   "metadata": {},
   "source": [
    "__4 . Estimate bulk modulus and density of brine__"
   ]
  },
  {
   "cell_type": "code",
   "execution_count": 5,
   "id": "8427d80f",
   "metadata": {},
   "outputs": [
    {
     "name": "stdout",
     "output_type": "stream",
     "text": [
      "Bulk Modulus of brine: 2.663203705824249e-05Gpa\n",
      "Density of brine: 0.933g/cc\n"
     ]
    }
   ],
   "source": [
    "k_brine, rho_brine = model.k_rho_brine()\n",
    "print(f'Bulk Modulus of brine: {k_brine}Gpa')\n",
    "print(f'Density of brine: {rho_brine}g/cc')"
   ]
  },
  {
   "cell_type": "markdown",
   "id": "c372de9f",
   "metadata": {},
   "source": [
    "__5. Estimate the bulk modulus and density of initial hydrocarbon__"
   ]
  },
  {
   "cell_type": "code",
   "execution_count": 6,
   "id": "4ec84523",
   "metadata": {},
   "outputs": [
    {
     "name": "stdout",
     "output_type": "stream",
     "text": [
      "Bulk Modulus of initial hydrocarbon: 0.2199Gpa\n",
      "Density of initial hydrocarbon: 0.553g/cc\n"
     ]
    }
   ],
   "source": [
    "k_hyc_init, rho_hyc_init = model.init_hyc()\n",
    "print(f'Bulk Modulus of initial hydrocarbon: {k_hyc_init}Gpa')\n",
    "print(f'Density of initial hydrocarbon: {rho_hyc_init}g/cc')"
   ]
  },
  {
   "cell_type": "markdown",
   "id": "11d3b8e5",
   "metadata": {},
   "source": [
    "__6. Estimate bulk modulus and density of initial fluid__"
   ]
  },
  {
   "cell_type": "code",
   "execution_count": 7,
   "id": "9252df0f",
   "metadata": {},
   "outputs": [
    {
     "name": "stdout",
     "output_type": "stream",
     "text": [
      "Bulk Modulus of initial fluid: 0.37Gpa\n",
      "Density of initial fluid: 0.71g/cc\n"
     ]
    }
   ],
   "source": [
    "k_fl, rho_fl = model.k_rho_fluid()\n",
    "print(f'Bulk Modulus of initial fluid: {k_fl}Gpa')\n",
    "print(f'Density of initial fluid: {rho_fl}g/cc')"
   ]
  },
  {
   "cell_type": "markdown",
   "id": "d9617fc7",
   "metadata": {},
   "source": [
    "__7. Estimate initial saturated bulk modulus and shear modulus__"
   ]
  },
  {
   "cell_type": "code",
   "execution_count": 8,
   "id": "2e4550e4",
   "metadata": {},
   "outputs": [
    {
     "name": "stdout",
     "output_type": "stream",
     "text": [
      "Initial saturated bulk modulus: 13.2344Gpa\n",
      "Initial saturated shear modulus: 8.6467Gpa\n"
     ]
    }
   ],
   "source": [
    "k_sat_init, mu_sat_init = model.insitu_moduli(rho_fluid=rho_fl, rho_matrix=rho_mat, d_phi=True)\n",
    "print(f'Initial saturated bulk modulus: {k_sat_init}Gpa')\n",
    "print(f'Initial saturated shear modulus: {mu_sat_init}Gpa')"
   ]
  },
  {
   "cell_type": "markdown",
   "id": "d013576d",
   "metadata": {},
   "source": [
    "__8. Estimate frame bulk modulus__"
   ]
  },
  {
   "cell_type": "code",
   "execution_count": 9,
   "id": "ce90a666",
   "metadata": {},
   "outputs": [
    {
     "name": "stdout",
     "output_type": "stream",
     "text": [
      "Frame bulk modulus: 12.5189Gpa\n"
     ]
    }
   ],
   "source": [
    "k_frame = model.k_frame(k_mat=k_mat, k_fld=k_fl, k_sat=k_sat_init)\n",
    "print(f'Frame bulk modulus: {k_frame}Gpa')"
   ]
  },
  {
   "cell_type": "markdown",
   "id": "cc73b32c",
   "metadata": {},
   "source": [
    "__9. Estimate bulk modulus and density of the desired hydrocarbon__"
   ]
  },
  {
   "cell_type": "code",
   "execution_count": 10,
   "id": "80083a11",
   "metadata": {},
   "outputs": [
    {
     "name": "stdout",
     "output_type": "stream",
     "text": [
      "Bulk modulus of desired hydrocarbon: 0.05307560388919129Gpa\n",
      "Density of desired hydrocarbon: 0.18189858127346814g/cc\n"
     ]
    }
   ],
   "source": [
    "k_hyc, rho_hyc = model.final_hc()\n",
    "print(f'Bulk modulus of desired hydrocarbon: {k_hyc}Gpa')\n",
    "print(f'Density of desired hydrocarbon: {rho_hyc}g/cc')"
   ]
  },
  {
   "cell_type": "markdown",
   "id": "5ae817c6",
   "metadata": {},
   "source": [
    "__10. Estimate the bulk modulus and density of saturated rock after fluid substitution__"
   ]
  },
  {
   "cell_type": "code",
   "execution_count": 11,
   "id": "5ab0449c",
   "metadata": {},
   "outputs": [
    {
     "name": "stdout",
     "output_type": "stream",
     "text": [
      "Bulk modulus of saturated rock after substitution: 12.519Gpa\n",
      "Density of saturated rock after substitution: 2.269Gpa\n"
     ]
    }
   ],
   "source": [
    "k_sat_new, rho_sat_new = model.k_rho_sat(k_mat=k_mat, rho_mat=rho_mat, k_frame=k_frame)\n",
    "print(f'Bulk modulus of saturated rock after substitution: {k_sat_new}Gpa')\n",
    "print(f'Density of saturated rock after substitution: {rho_sat_new}Gpa')"
   ]
  },
  {
   "cell_type": "markdown",
   "id": "ee0dc2ea",
   "metadata": {},
   "source": [
    "__11. Esimate the seismic velocities__"
   ]
  },
  {
   "cell_type": "code",
   "execution_count": 12,
   "id": "61294dd4",
   "metadata": {},
   "outputs": [
    {
     "name": "stdout",
     "output_type": "stream",
     "text": [
      "Density of Saturated rock after substitution: 2.269g/cc\n",
      "P-wave velocity after fluid substitution 10680.87m/s\n",
      "S-wave velocity after fluid substitution 6404.61m/s\n"
     ]
    }
   ],
   "source": [
    "vp_new, vs_new = gassmann.vel_sat(k_sat=k_sat_new, rho_sat=rho_sat_new, mu=mu_sat_init)\n",
    "print(f'Density of Saturated rock after substitution: {rho_sat_new}g/cc')\n",
    "print(f'P-wave velocity after fluid substitution {vp_new}m/s')\n",
    "print(f'S-wave velocity after fluid substitution {vs_new}m/s')"
   ]
  }
 ],
 "metadata": {
  "kernelspec": {
   "display_name": "Python 3",
   "language": "python",
   "name": "python3"
  },
  "language_info": {
   "codemirror_mode": {
    "name": "ipython",
    "version": 3
   },
   "file_extension": ".py",
   "mimetype": "text/x-python",
   "name": "python",
   "nbconvert_exporter": "python",
   "pygments_lexer": "ipython3",
   "version": "3.7.10"
  }
 },
 "nbformat": 4,
 "nbformat_minor": 5
}
